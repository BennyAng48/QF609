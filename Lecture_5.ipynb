{
 "cells": [
  {
   "cell_type": "code",
   "execution_count": 1,
   "metadata": {},
   "outputs": [],
   "source": [
    "# Python calculation for the example and exercise from Lecture 4 notes\n",
    "import numpy as np\n",
    "import os\n",
    "import math\n",
    "import pandas as pd\n",
    "import scipy.stats as stat\n",
    "import scipy.interpolate\n",
    "import statistics\n",
    "from statistics import NormalDist"
   ]
  },
  {
   "cell_type": "markdown",
   "metadata": {},
   "source": [
    "# Problem Set 1 Question 9"
   ]
  },
  {
   "cell_type": "code",
   "execution_count": 2,
   "metadata": {},
   "outputs": [
    {
     "name": "stdout",
     "output_type": "stream",
     "text": [
      "The 10-day 99% VaR using the parametric VaR model is equal to: 197,746\n"
     ]
    }
   ],
   "source": [
    "mu = [0.000356, 0.000267, 0.000133, 0.000153]\n",
    "sigma = [[0.00007, 0.0001, -0.000045, 0.000068],\n",
    "         [0.0001, 0.0004, -0.00008, 0.000241],\n",
    "         [-0.000045, -0.00008, 0.000178, -0.000118],\n",
    "         [0.000068, 0.000241, -0.000118, 0.000324]\n",
    "        ]\n",
    "\n",
    "mu10d = np.multiply(mu, 10)\n",
    "sigma10d = np.multiply(sigma, 10)\n",
    "w = np.array([1000000, 1000000, 1000000, 400000])\n",
    "meanL = np.inner(w, mu10d) + 2500 * (0.001 * 10) / 0.01 \n",
    "varianceL = np.dot(np.dot(w, sigma10d), np.transpose(w)) + 2500 * 2500 * 0.0005 * 0.0005 * 10\n",
    "\n",
    "var = np.abs(stat.norm.ppf(0.01, loc=meanL, scale=np.sqrt(varianceL)))\n",
    "print(f\"The 10-day 99% VaR using the parametric VaR model is equal to: {var:,.0f}\")"
   ]
  },
  {
   "cell_type": "markdown",
   "metadata": {},
   "source": [
    "# Lesson 5 Example"
   ]
  },
  {
   "cell_type": "code",
   "execution_count": 3,
   "metadata": {},
   "outputs": [
    {
     "data": {
      "text/html": [
       "<div>\n",
       "<style scoped>\n",
       "    .dataframe tbody tr th:only-of-type {\n",
       "        vertical-align: middle;\n",
       "    }\n",
       "\n",
       "    .dataframe tbody tr th {\n",
       "        vertical-align: top;\n",
       "    }\n",
       "\n",
       "    .dataframe thead th {\n",
       "        text-align: right;\n",
       "    }\n",
       "</style>\n",
       "<table border=\"1\" class=\"dataframe\">\n",
       "  <thead>\n",
       "    <tr style=\"text-align: right;\">\n",
       "      <th></th>\n",
       "      <th>Close</th>\n",
       "    </tr>\n",
       "  </thead>\n",
       "  <tbody>\n",
       "    <tr>\n",
       "      <th>2024-02-07</th>\n",
       "      <td>189.41</td>\n",
       "    </tr>\n",
       "    <tr>\n",
       "      <th>2024-02-08</th>\n",
       "      <td>188.32</td>\n",
       "    </tr>\n",
       "    <tr>\n",
       "      <th>2024-02-09</th>\n",
       "      <td>188.85</td>\n",
       "    </tr>\n",
       "    <tr>\n",
       "      <th>2024-02-12</th>\n",
       "      <td>187.15</td>\n",
       "    </tr>\n",
       "    <tr>\n",
       "      <th>2024-02-13</th>\n",
       "      <td>185.04</td>\n",
       "    </tr>\n",
       "    <tr>\n",
       "      <th>...</th>\n",
       "      <td>...</td>\n",
       "    </tr>\n",
       "    <tr>\n",
       "      <th>2025-02-03</th>\n",
       "      <td>228.01</td>\n",
       "    </tr>\n",
       "    <tr>\n",
       "      <th>2025-02-04</th>\n",
       "      <td>232.80</td>\n",
       "    </tr>\n",
       "    <tr>\n",
       "      <th>2025-02-05</th>\n",
       "      <td>232.47</td>\n",
       "    </tr>\n",
       "    <tr>\n",
       "      <th>2025-02-06</th>\n",
       "      <td>233.22</td>\n",
       "    </tr>\n",
       "    <tr>\n",
       "      <th>2025-02-07</th>\n",
       "      <td>227.63</td>\n",
       "    </tr>\n",
       "  </tbody>\n",
       "</table>\n",
       "<p>252 rows × 1 columns</p>\n",
       "</div>"
      ],
      "text/plain": [
       "             Close\n",
       "2024-02-07  189.41\n",
       "2024-02-08  188.32\n",
       "2024-02-09  188.85\n",
       "2024-02-12  187.15\n",
       "2024-02-13  185.04\n",
       "...            ...\n",
       "2025-02-03  228.01\n",
       "2025-02-04  232.80\n",
       "2025-02-05  232.47\n",
       "2025-02-06  233.22\n",
       "2025-02-07  227.63\n",
       "\n",
       "[252 rows x 1 columns]"
      ]
     },
     "execution_count": 3,
     "metadata": {},
     "output_type": "execute_result"
    }
   ],
   "source": [
    "file_path = \"\"\n",
    "offset = 693594\n",
    "\n",
    "df_appl = pd.read_csv(file_path + \"AAPL.csv\").set_index('Date')\n",
    "df_appl.index = pd.to_datetime(df_appl.index).date\n",
    "df_appl = df_appl.sort_index()\n",
    "df_appl"
   ]
  },
  {
   "cell_type": "code",
   "execution_count": 4,
   "metadata": {},
   "outputs": [
    {
     "data": {
      "text/html": [
       "<div>\n",
       "<style scoped>\n",
       "    .dataframe tbody tr th:only-of-type {\n",
       "        vertical-align: middle;\n",
       "    }\n",
       "\n",
       "    .dataframe tbody tr th {\n",
       "        vertical-align: top;\n",
       "    }\n",
       "\n",
       "    .dataframe thead th {\n",
       "        text-align: right;\n",
       "    }\n",
       "</style>\n",
       "<table border=\"1\" class=\"dataframe\">\n",
       "  <thead>\n",
       "    <tr style=\"text-align: right;\">\n",
       "      <th></th>\n",
       "      <th>Close</th>\n",
       "    </tr>\n",
       "  </thead>\n",
       "  <tbody>\n",
       "    <tr>\n",
       "      <th>2024-02-07</th>\n",
       "      <td>29.50</td>\n",
       "    </tr>\n",
       "    <tr>\n",
       "      <th>2024-02-08</th>\n",
       "      <td>29.51</td>\n",
       "    </tr>\n",
       "    <tr>\n",
       "      <th>2024-02-09</th>\n",
       "      <td>29.58</td>\n",
       "    </tr>\n",
       "    <tr>\n",
       "      <th>2024-02-13</th>\n",
       "      <td>29.54</td>\n",
       "    </tr>\n",
       "    <tr>\n",
       "      <th>2024-02-14</th>\n",
       "      <td>29.61</td>\n",
       "    </tr>\n",
       "    <tr>\n",
       "      <th>...</th>\n",
       "      <td>...</td>\n",
       "    </tr>\n",
       "    <tr>\n",
       "      <th>2025-02-03</th>\n",
       "      <td>44.31</td>\n",
       "    </tr>\n",
       "    <tr>\n",
       "      <th>2025-02-04</th>\n",
       "      <td>44.42</td>\n",
       "    </tr>\n",
       "    <tr>\n",
       "      <th>2025-02-05</th>\n",
       "      <td>44.32</td>\n",
       "    </tr>\n",
       "    <tr>\n",
       "      <th>2025-02-06</th>\n",
       "      <td>44.32</td>\n",
       "    </tr>\n",
       "    <tr>\n",
       "      <th>2025-02-07</th>\n",
       "      <td>44.68</td>\n",
       "    </tr>\n",
       "  </tbody>\n",
       "</table>\n",
       "<p>251 rows × 1 columns</p>\n",
       "</div>"
      ],
      "text/plain": [
       "            Close\n",
       "2024-02-07  29.50\n",
       "2024-02-08  29.51\n",
       "2024-02-09  29.58\n",
       "2024-02-13  29.54\n",
       "2024-02-14  29.61\n",
       "...           ...\n",
       "2025-02-03  44.31\n",
       "2025-02-04  44.42\n",
       "2025-02-05  44.32\n",
       "2025-02-06  44.32\n",
       "2025-02-07  44.68\n",
       "\n",
       "[251 rows x 1 columns]"
      ]
     },
     "execution_count": 4,
     "metadata": {},
     "output_type": "execute_result"
    }
   ],
   "source": [
    "df_dbs = pd.read_csv(file_path + \"DBS.csv\").set_index('Date')\n",
    "df_dbs.index = pd.to_datetime(df_dbs.index).date\n",
    "df_dbs = df_dbs.sort_index()\n",
    "df_dbs"
   ]
  },
  {
   "cell_type": "code",
   "execution_count": 5,
   "metadata": {},
   "outputs": [
    {
     "data": {
      "text/html": [
       "<div>\n",
       "<style scoped>\n",
       "    .dataframe tbody tr th:only-of-type {\n",
       "        vertical-align: middle;\n",
       "    }\n",
       "\n",
       "    .dataframe tbody tr th {\n",
       "        vertical-align: top;\n",
       "    }\n",
       "\n",
       "    .dataframe thead th {\n",
       "        text-align: right;\n",
       "    }\n",
       "</style>\n",
       "<table border=\"1\" class=\"dataframe\">\n",
       "  <thead>\n",
       "    <tr style=\"text-align: right;\">\n",
       "      <th></th>\n",
       "      <th>Close</th>\n",
       "    </tr>\n",
       "  </thead>\n",
       "  <tbody>\n",
       "    <tr>\n",
       "      <th>2024-02-07</th>\n",
       "      <td>1.3434</td>\n",
       "    </tr>\n",
       "    <tr>\n",
       "      <th>2024-02-08</th>\n",
       "      <td>1.3472</td>\n",
       "    </tr>\n",
       "    <tr>\n",
       "      <th>2024-02-09</th>\n",
       "      <td>1.3461</td>\n",
       "    </tr>\n",
       "    <tr>\n",
       "      <th>2024-02-12</th>\n",
       "      <td>1.3445</td>\n",
       "    </tr>\n",
       "    <tr>\n",
       "      <th>2024-02-13</th>\n",
       "      <td>1.3511</td>\n",
       "    </tr>\n",
       "    <tr>\n",
       "      <th>...</th>\n",
       "      <td>...</td>\n",
       "    </tr>\n",
       "    <tr>\n",
       "      <th>2025-02-03</th>\n",
       "      <td>1.3604</td>\n",
       "    </tr>\n",
       "    <tr>\n",
       "      <th>2025-02-04</th>\n",
       "      <td>1.3527</td>\n",
       "    </tr>\n",
       "    <tr>\n",
       "      <th>2025-02-05</th>\n",
       "      <td>1.3484</td>\n",
       "    </tr>\n",
       "    <tr>\n",
       "      <th>2025-02-06</th>\n",
       "      <td>1.3506</td>\n",
       "    </tr>\n",
       "    <tr>\n",
       "      <th>2025-02-07</th>\n",
       "      <td>1.3540</td>\n",
       "    </tr>\n",
       "  </tbody>\n",
       "</table>\n",
       "<p>263 rows × 1 columns</p>\n",
       "</div>"
      ],
      "text/plain": [
       "             Close\n",
       "2024-02-07  1.3434\n",
       "2024-02-08  1.3472\n",
       "2024-02-09  1.3461\n",
       "2024-02-12  1.3445\n",
       "2024-02-13  1.3511\n",
       "...            ...\n",
       "2025-02-03  1.3604\n",
       "2025-02-04  1.3527\n",
       "2025-02-05  1.3484\n",
       "2025-02-06  1.3506\n",
       "2025-02-07  1.3540\n",
       "\n",
       "[263 rows x 1 columns]"
      ]
     },
     "execution_count": 5,
     "metadata": {},
     "output_type": "execute_result"
    }
   ],
   "source": [
    "df_usdsgd = pd.read_csv(file_path + \"USDSGD.csv\").set_index('Date')\n",
    "df_usdsgd.index = pd.to_datetime(df_usdsgd.index).date\n",
    "df_usdsgd = df_usdsgd.sort_index()\n",
    "df_usdsgd"
   ]
  },
  {
   "cell_type": "code",
   "execution_count": 6,
   "metadata": {},
   "outputs": [],
   "source": [
    "d1 = [ d.toordinal()-693594  for d in df_appl.index.tolist()]\n",
    "p1 = df_appl['Close'].tolist()\n",
    "interp1 =  scipy.interpolate.interp1d(d1, p1)\n",
    "\n",
    "d2 = [ d.toordinal()-693594  for d in df_dbs.index.tolist()]\n",
    "p2 = df_dbs['Close'].tolist()\n",
    "interp2 =  scipy.interpolate.interp1d(d2, p2)\n",
    "\n",
    "d3 = [ d.toordinal()-693594  for d in df_usdsgd.index.tolist()]\n",
    "p3 = df_usdsgd['Close'].tolist()\n",
    "interp3 =  scipy.interpolate.interp1d(d3, p3)\n",
    "\n",
    "dlist = list(set(d1) | set(d2) | set(d3))"
   ]
  },
  {
   "cell_type": "code",
   "execution_count": 7,
   "metadata": {},
   "outputs": [],
   "source": [
    "numchg = len(dlist)-1\n",
    "appl = [ interp1(dlist[i+1]).flat[0] / interp1(dlist[i]).flat[0] - 1.0  for i in range(numchg) ]\n",
    "dbs = [ interp2(dlist[i+1]).flat[0] / interp2(dlist[i]).flat[0] - 1.0  for i in range(numchg) ]\n",
    "usdsgd = [ interp3(dlist[i+1]).flat[0] / interp3(dlist[i]).flat[0] - 1.0  for i in range(numchg) ]"
   ]
  },
  {
   "cell_type": "code",
   "execution_count": 8,
   "metadata": {},
   "outputs": [],
   "source": [
    "alldata = {'appl' : appl,\n",
    "           'dbs' : dbs,\n",
    "           'usdsgd' : usdsgd }\n",
    "\n",
    "df_all = pd.DataFrame(alldata, columns=['appl', 'dbs', 'usdsgd'])\n",
    "\n",
    "corr_mat = df_all.corr()\n",
    "cov_mat = df_all.cov()\n",
    "\n",
    "appl_mean = np.average(appl)\n",
    "appl_std = statistics.stdev(appl)\n",
    "\n",
    "dbs_mean = np.average(dbs)\n",
    "dbs_std = statistics.stdev(dbs)\n",
    "\n",
    "usdsgd_mean = np.average(usdsgd)\n",
    "usdsgd_std = statistics.stdev(usdsgd)\n",
    "\n",
    "mean_vec = np.array([appl_mean, dbs_mean, usdsgd_mean])\n",
    "\n",
    "mean10d_vec = np.array([appl_mean*10, dbs_mean*10, usdsgd_mean*10])\n",
    "\n",
    "cov10d_mat = (cov_mat * 10).to_numpy()"
   ]
  },
  {
   "cell_type": "code",
   "execution_count": 9,
   "metadata": {},
   "outputs": [
    {
     "data": {
      "text/plain": [
       "array([8.04165189e-04, 1.64027617e-03, 3.42693964e-05])"
      ]
     },
     "execution_count": 9,
     "metadata": {},
     "output_type": "execute_result"
    }
   ],
   "source": [
    "mean_vec"
   ]
  },
  {
   "cell_type": "code",
   "execution_count": 10,
   "metadata": {},
   "outputs": [
    {
     "data": {
      "text/plain": [
       "array([0.00804165, 0.01640276, 0.00034269])"
      ]
     },
     "execution_count": 10,
     "metadata": {},
     "output_type": "execute_result"
    }
   ],
   "source": [
    "mean10d_vec"
   ]
  },
  {
   "cell_type": "code",
   "execution_count": 11,
   "metadata": {},
   "outputs": [
    {
     "data": {
      "text/plain": [
       "array([[ 2.06432945e-03,  3.05983904e-04, -6.41512277e-05],\n",
       "       [ 3.05983904e-04,  1.09789749e-03, -2.07773463e-05],\n",
       "       [-6.41512277e-05, -2.07773463e-05,  8.57834970e-05]])"
      ]
     },
     "execution_count": 11,
     "metadata": {},
     "output_type": "execute_result"
    }
   ],
   "source": [
    "cov10d_mat"
   ]
  },
  {
   "cell_type": "markdown",
   "metadata": {},
   "source": [
    "# Parametric VaR"
   ]
  },
  {
   "cell_type": "code",
   "execution_count": 12,
   "metadata": {},
   "outputs": [
    {
     "name": "stdout",
     "output_type": "stream",
     "text": [
      "\n",
      "\n",
      "============================================================================================================================\n",
      "Parametric VaR [1d, 99%]: 1,042,033\n",
      "Parametric VaR [10d, 99%]: 3,018,277\n",
      "============================================================================================================================\n"
     ]
    }
   ],
   "source": [
    "# https://numpy.org/doc/stable/reference/generated/numpy.inner.html\n",
    "# https://numpy.org/doc/stable/reference/generated/numpy.dot.html\n",
    "\n",
    "usdsgd_p0 = 1.354   # Last price\n",
    "appl_p0 = 227.63    # Last price\n",
    "dbs_p0 = 44.68      # Last price\n",
    "n_appl = 100000     # Number of shares of APPL\n",
    "n_dbs = 200000      # Number of shares of DBS\n",
    "\n",
    "w_parametric = np.array([n_appl*appl_p0*usdsgd_p0, \n",
    "                         n_dbs*dbs_p0, \n",
    "                         n_appl*appl_p0*usdsgd_p0])\n",
    "\n",
    "m10d = np.inner(w_parametric, mean10d_vec)\n",
    "v10d = np.inner(np.dot(w_parametric, cov10d_mat), w_parametric)\n",
    "var10d = np.abs(stat.norm.ppf(0.01, loc=m10d, scale=np.sqrt(v10d)))\n",
    "\n",
    "m1d =  np.inner(w_parametric, mean_vec)\n",
    "v1d = np.inner(np.dot(w_parametric, cov_mat), w_parametric)\n",
    "var1d = np.abs(stat.norm.ppf(0.01, loc=m1d, scale=np.sqrt(v1d)))\n",
    "\n",
    "print(\"\")\n",
    "print(\"\")\n",
    "print(\"============================================================================================================================\")\n",
    "print(f\"Parametric VaR [1d, 99%]: {var1d:,.0f}\")\n",
    "print(f\"Parametric VaR [10d, 99%]: {var10d:,.0f}\")\n",
    "print(\"============================================================================================================================\")"
   ]
  },
  {
   "cell_type": "code",
   "execution_count": 13,
   "metadata": {},
   "outputs": [],
   "source": [
    "# full revaluation 1d pnl evaluation\n",
    "def pnl1d_full(appl_daily_return, dbs_return, usdsgd_return):\n",
    "    return n_appl*appl_p0*usdsgd_p0*((1+appl_daily_return)*(1+usdsgd_return)-1) + n_dbs*dbs_p0*((1+dbs_return)-1)"
   ]
  },
  {
   "cell_type": "code",
   "execution_count": 14,
   "metadata": {},
   "outputs": [],
   "source": [
    "# sensitivity based 1d pnl evaluation \n",
    "def pnl1d_sen(appl_daily_return, dbs_return, usdsgd_return):\n",
    "    return n_appl*appl_p0*usdsgd_p0*(appl_daily_return+usdsgd_return) + n_dbs*dbs_p0*dbs_return"
   ]
  },
  {
   "cell_type": "code",
   "execution_count": 15,
   "metadata": {},
   "outputs": [],
   "source": [
    "# full revaluation 10d pnl evaluation\n",
    "def pnl10d_full(returns):\n",
    "    a10d = 0.0\n",
    "    fx10d = 0.0\n",
    "    d10d = 0.0\n",
    "    for i in range(0,10):\n",
    "        a10d = a10d + returns[i][0]\n",
    "        fx10d = fx10d  +returns[i][2]\n",
    "        d10d = d10d  +returns[i][1]\n",
    "    return n_appl*appl_p0*usdsgd_p0*a10d + n_appl*appl_p0*usdsgd_p0*fx10d + n_dbs*dbs_p0*d10d"
   ]
  },
  {
   "cell_type": "code",
   "execution_count": 16,
   "metadata": {},
   "outputs": [],
   "source": [
    "# sensitivity based 10d pnl evaluation \n",
    "def pnl10d_sen(returns):\n",
    "    a10d = 1.0\n",
    "    d10d = 1.0\n",
    "    for i in range(0,10):\n",
    "        a10d = a10d * (1+returns[i][0])*(1+returns[i][2])\n",
    "        d10d = d10d * (1+returns[i][1])\n",
    "    return n_appl*appl_p0*usdsgd_p0*(a10d-1)  +n_dbs*dbs_p0*(d10d-1)"
   ]
  },
  {
   "cell_type": "markdown",
   "metadata": {},
   "source": [
    "# Monte Carlo VaR"
   ]
  },
  {
   "cell_type": "code",
   "execution_count": 17,
   "metadata": {},
   "outputs": [
    {
     "name": "stdout",
     "output_type": "stream",
     "text": [
      "\n",
      "\n",
      "============================================================================================================================\n",
      "Monte Carlo VaR:\n",
      "VaR [1d, 99%], Full Revaluation: 1,049,471\n",
      "VaR [10d, 99%], Full Revaluation: 2,969,736\n",
      "VaR [10d, 99%] using square-root-of-time rule: 3,318,719\n",
      "\n",
      "VaR [1d, 99%], Sensitivity: 1,047,980\n",
      "VaR [10d, 99%], Sensitivity: 2,881,266\n",
      "============================================================================================================================\n"
     ]
    }
   ],
   "source": [
    "n_mc = 100000\n",
    "factor_loadings = np.linalg.cholesky(corr_mat)\n",
    "uniforms = np.random.uniform(size=(n_mc,3))\n",
    "snorms = [ [NormalDist().inv_cdf(u) for u in r]  for r in uniforms]\n",
    "snorms_correlated = np.dot(snorms, factor_loadings.transpose())\n",
    "\n",
    "return1d_sample = [ [ appl_mean + appl_std * z[0],   \n",
    "                     dbs_mean + dbs_std * z[1], \n",
    "                     usdsgd_mean + usdsgd_std * z[2] ]  for z in snorms_correlated]\n",
    "\n",
    "pnl1d_full_sample = [ pnl1d_full(s[0], s[1], s[2])  for s in return1d_sample]\n",
    "var1d_full_mc = np.abs(np.percentile(pnl1d_full_sample, 1))\n",
    "\n",
    "pnl10d_full_sample = [ pnl10d_full(return1d_sample[k*10:(k+1)*10]) for k in range(0, int(n_mc/10)) ]\n",
    "var10d_full_mc = np.abs(np.percentile(pnl10d_full_sample, 1))\n",
    "\n",
    "pnl1d_sen_sample = [ pnl1d_sen(s[0], s[1], s[2])  for s in return1d_sample]\n",
    "var1d_sen_mc = np.abs(np.percentile(pnl1d_sen_sample, 1))\n",
    "\n",
    "pnl10d_sen_sample = [ pnl10d_sen(return1d_sample[k*10:(k+1)*10]) for k in range(0, int(n_mc/10)) ]\n",
    "var10d_sen_mc = np.abs(np.percentile(pnl10d_sen_sample, 1))\n",
    "\n",
    "print(\"\")\n",
    "print(\"\")\n",
    "print(\"============================================================================================================================\")\n",
    "print(\"Monte Carlo VaR:\")\n",
    "print(f\"VaR [1d, 99%], Full Revaluation: {var1d_full_mc:,.0f}\") \n",
    "print(f\"VaR [10d, 99%], Full Revaluation: {var10d_full_mc:,.0f}\") \n",
    "print(f\"VaR [10d, 99%] using square-root-of-time rule: {np.sqrt(10)*var1d_full_mc:,.0f}\") \n",
    "print(\"\")\n",
    "print(f\"VaR [1d, 99%], Sensitivity: {var1d_sen_mc:,.0f}\") \n",
    "print(f\"VaR [10d, 99%], Sensitivity: {var10d_sen_mc:,.0f}\") \n",
    "print(\"============================================================================================================================\")"
   ]
  },
  {
   "cell_type": "markdown",
   "metadata": {},
   "source": [
    "# Historical VaR"
   ]
  },
  {
   "cell_type": "code",
   "execution_count": 18,
   "metadata": {},
   "outputs": [
    {
     "name": "stdout",
     "output_type": "stream",
     "text": [
      "\n",
      "\n",
      "============================================================================================================================\n",
      "Historical VaR:\n",
      "VaR [1d, 99%], Full Revaluation: 1,027,655\n",
      "VaR [10d, 99%] using square-root-of-time rule: 3,249,730\n",
      "\n",
      "VaR [1d, 99%], Sensitivity: 1,028,280\n",
      "============================================================================================================================\n"
     ]
    }
   ],
   "source": [
    "hist_returns = df_all.to_numpy().tolist()\n",
    "\n",
    "pnl1d_full_hist_sample = [ pnl1d_full(s[0], s[1], s[2])  for s in hist_returns]\n",
    "var1d_full_hist = np.abs(np.percentile(pnl1d_full_hist_sample, 1))\n",
    "\n",
    "pnl1d_sen_hist_sample = [ pnl1d_sen(s[0], s[1], s[2])  for s in hist_returns]\n",
    "var1d_sen_hist = np.abs(np.percentile(pnl1d_sen_hist_sample, 1))\n",
    "\n",
    "print(\"\")\n",
    "print(\"\")\n",
    "print(\"============================================================================================================================\")\n",
    "print(\"Historical VaR:\")\n",
    "print(f\"VaR [1d, 99%], Full Revaluation: {var1d_full_hist:,.0f}\") \n",
    "print(f\"VaR [10d, 99%] using square-root-of-time rule: {np.sqrt(10)*var1d_full_hist:,.0f}\")\n",
    "print(\"\")\n",
    "print(f\"VaR [1d, 99%], Sensitivity: {var1d_sen_hist:,.0f}\") \n",
    "print(\"============================================================================================================================\")"
   ]
  }
 ],
 "metadata": {
  "kernelspec": {
   "display_name": "lewagon",
   "language": "python",
   "name": "python3"
  },
  "language_info": {
   "codemirror_mode": {
    "name": "ipython",
    "version": 3
   },
   "file_extension": ".py",
   "mimetype": "text/x-python",
   "name": "python",
   "nbconvert_exporter": "python",
   "pygments_lexer": "ipython3",
   "version": "3.10.6"
  }
 },
 "nbformat": 4,
 "nbformat_minor": 2
}
